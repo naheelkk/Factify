{
 "cells": [
  {
   "cell_type": "markdown",
   "id": "b1888af8",
   "metadata": {},
   "source": [
    "FEVER.jsonl"
   ]
  },
  {
   "cell_type": "code",
   "execution_count": 2,
   "id": "47ac5cc4",
   "metadata": {},
   "outputs": [],
   "source": [
    "import pandas as pd\n",
    "import matplotlib.pyplot as plt\n",
    "import seaborn as sns\n",
    "from collections import Counter"
   ]
  },
  {
   "cell_type": "code",
   "execution_count": 3,
   "id": "16e7d505",
   "metadata": {},
   "outputs": [
    {
     "data": {
      "text/html": [
       "<div>\n",
       "<style scoped>\n",
       "    .dataframe tbody tr th:only-of-type {\n",
       "        vertical-align: middle;\n",
       "    }\n",
       "\n",
       "    .dataframe tbody tr th {\n",
       "        vertical-align: top;\n",
       "    }\n",
       "\n",
       "    .dataframe thead th {\n",
       "        text-align: right;\n",
       "    }\n",
       "</style>\n",
       "<table border=\"1\" class=\"dataframe\">\n",
       "  <thead>\n",
       "    <tr style=\"text-align: right;\">\n",
       "      <th></th>\n",
       "      <th>id</th>\n",
       "      <th>verifiable</th>\n",
       "      <th>label</th>\n",
       "      <th>claim</th>\n",
       "      <th>evidence</th>\n",
       "    </tr>\n",
       "  </thead>\n",
       "  <tbody>\n",
       "    <tr>\n",
       "      <th>0</th>\n",
       "      <td>75397</td>\n",
       "      <td>VERIFIABLE</td>\n",
       "      <td>SUPPORTS</td>\n",
       "      <td>Nikolaj Coster-Waldau worked with the Fox Broa...</td>\n",
       "      <td>[[[92206, 104971, Nikolaj_Coster-Waldau, 7], [...</td>\n",
       "    </tr>\n",
       "    <tr>\n",
       "      <th>1</th>\n",
       "      <td>150448</td>\n",
       "      <td>VERIFIABLE</td>\n",
       "      <td>SUPPORTS</td>\n",
       "      <td>Roman Atwood is a content creator.</td>\n",
       "      <td>[[[174271, 187498, Roman_Atwood, 1]], [[174271...</td>\n",
       "    </tr>\n",
       "    <tr>\n",
       "      <th>2</th>\n",
       "      <td>214861</td>\n",
       "      <td>VERIFIABLE</td>\n",
       "      <td>SUPPORTS</td>\n",
       "      <td>History of art includes architecture, dance, s...</td>\n",
       "      <td>[[[255136, 254645, History_of_art, 2]]]</td>\n",
       "    </tr>\n",
       "    <tr>\n",
       "      <th>3</th>\n",
       "      <td>156709</td>\n",
       "      <td>VERIFIABLE</td>\n",
       "      <td>REFUTES</td>\n",
       "      <td>Adrienne Bailon is an accountant.</td>\n",
       "      <td>[[[180804, 193183, Adrienne_Bailon, 0]]]</td>\n",
       "    </tr>\n",
       "    <tr>\n",
       "      <th>4</th>\n",
       "      <td>83235</td>\n",
       "      <td>NOT VERIFIABLE</td>\n",
       "      <td>NOT ENOUGH INFO</td>\n",
       "      <td>System of a Down briefly disbanded in limbo.</td>\n",
       "      <td>[[[100277, None, None, None]]]</td>\n",
       "    </tr>\n",
       "  </tbody>\n",
       "</table>\n",
       "</div>"
      ],
      "text/plain": [
       "       id      verifiable            label  \\\n",
       "0   75397      VERIFIABLE         SUPPORTS   \n",
       "1  150448      VERIFIABLE         SUPPORTS   \n",
       "2  214861      VERIFIABLE         SUPPORTS   \n",
       "3  156709      VERIFIABLE          REFUTES   \n",
       "4   83235  NOT VERIFIABLE  NOT ENOUGH INFO   \n",
       "\n",
       "                                               claim  \\\n",
       "0  Nikolaj Coster-Waldau worked with the Fox Broa...   \n",
       "1                 Roman Atwood is a content creator.   \n",
       "2  History of art includes architecture, dance, s...   \n",
       "3                  Adrienne Bailon is an accountant.   \n",
       "4       System of a Down briefly disbanded in limbo.   \n",
       "\n",
       "                                            evidence  \n",
       "0  [[[92206, 104971, Nikolaj_Coster-Waldau, 7], [...  \n",
       "1  [[[174271, 187498, Roman_Atwood, 1]], [[174271...  \n",
       "2            [[[255136, 254645, History_of_art, 2]]]  \n",
       "3           [[[180804, 193183, Adrienne_Bailon, 0]]]  \n",
       "4                     [[[100277, None, None, None]]]  "
      ]
     },
     "execution_count": 3,
     "metadata": {},
     "output_type": "execute_result"
    }
   ],
   "source": [
    "df = pd.read_json(\"../../data/raw/FEVER.jsonl\",lines=True)\n",
    "df.head()"
   ]
  },
  {
   "cell_type": "code",
   "execution_count": 4,
   "id": "427ced48",
   "metadata": {},
   "outputs": [],
   "source": [
    "df = df[df['label'].isin(['SUPPORTS','REFUTES'])]\n",
    "df['label'] = df['label'].map({\n",
    "    'SUPPORTS':'REAL',\n",
    "    'REFUTES':'FAKE'\n",
    "})\n",
    "\n",
    "df = df[['claim','label']]\n",
    "df = df.rename(columns={'claim':'text'})\n",
    "df = df.dropna(subset=['text','label'])\n"
   ]
  },
  {
   "cell_type": "code",
   "execution_count": 5,
   "id": "9c64ee62",
   "metadata": {},
   "outputs": [
    {
     "data": {
      "text/html": [
       "<div>\n",
       "<style scoped>\n",
       "    .dataframe tbody tr th:only-of-type {\n",
       "        vertical-align: middle;\n",
       "    }\n",
       "\n",
       "    .dataframe tbody tr th {\n",
       "        vertical-align: top;\n",
       "    }\n",
       "\n",
       "    .dataframe thead th {\n",
       "        text-align: right;\n",
       "    }\n",
       "</style>\n",
       "<table border=\"1\" class=\"dataframe\">\n",
       "  <thead>\n",
       "    <tr style=\"text-align: right;\">\n",
       "      <th></th>\n",
       "      <th>text</th>\n",
       "      <th>label</th>\n",
       "    </tr>\n",
       "  </thead>\n",
       "  <tbody>\n",
       "    <tr>\n",
       "      <th>0</th>\n",
       "      <td>Nikolaj Coster-Waldau worked with the Fox Broa...</td>\n",
       "      <td>REAL</td>\n",
       "    </tr>\n",
       "    <tr>\n",
       "      <th>1</th>\n",
       "      <td>Roman Atwood is a content creator.</td>\n",
       "      <td>REAL</td>\n",
       "    </tr>\n",
       "    <tr>\n",
       "      <th>2</th>\n",
       "      <td>History of art includes architecture, dance, s...</td>\n",
       "      <td>REAL</td>\n",
       "    </tr>\n",
       "    <tr>\n",
       "      <th>3</th>\n",
       "      <td>Adrienne Bailon is an accountant.</td>\n",
       "      <td>FAKE</td>\n",
       "    </tr>\n",
       "    <tr>\n",
       "      <th>5</th>\n",
       "      <td>Homeland is an American television spy thrille...</td>\n",
       "      <td>REAL</td>\n",
       "    </tr>\n",
       "  </tbody>\n",
       "</table>\n",
       "</div>"
      ],
      "text/plain": [
       "                                                text label\n",
       "0  Nikolaj Coster-Waldau worked with the Fox Broa...  REAL\n",
       "1                 Roman Atwood is a content creator.  REAL\n",
       "2  History of art includes architecture, dance, s...  REAL\n",
       "3                  Adrienne Bailon is an accountant.  FAKE\n",
       "5  Homeland is an American television spy thrille...  REAL"
      ]
     },
     "execution_count": 5,
     "metadata": {},
     "output_type": "execute_result"
    }
   ],
   "source": [
    "df.shape\n",
    "df.head()"
   ]
  },
  {
   "cell_type": "code",
   "execution_count": 6,
   "id": "d3abf37e",
   "metadata": {},
   "outputs": [
    {
     "data": {
      "text/plain": [
       "label\n",
       "REAL    80035\n",
       "FAKE    29775\n",
       "Name: count, dtype: int64"
      ]
     },
     "execution_count": 6,
     "metadata": {},
     "output_type": "execute_result"
    }
   ],
   "source": [
    "df['label'].value_counts()"
   ]
  },
  {
   "cell_type": "code",
   "execution_count": 7,
   "id": "325dd645",
   "metadata": {},
   "outputs": [],
   "source": [
    "from sklearn.utils import resample\n",
    "\n",
    "real_df = df[df['label']=='REAL']\n",
    "fake_df = df[df['label']=='FAKE']\n",
    "\n",
    "real_downsampled = resample(real_df, replace=False,\n",
    "                            n_samples=len(fake_df),\n",
    "                            random_state=42\n",
    "                            )\n",
    "\n",
    "balanced_df = pd.concat([real_downsampled,fake_df]).sample(frac=1, random_state = 42)\n",
    "\n",
    "df = balanced_df"
   ]
  },
  {
   "cell_type": "code",
   "execution_count": 8,
   "id": "e29ba75d",
   "metadata": {},
   "outputs": [
    {
     "data": {
      "text/plain": [
       "label\n",
       "FAKE    29775\n",
       "REAL    29775\n",
       "Name: count, dtype: int64"
      ]
     },
     "execution_count": 8,
     "metadata": {},
     "output_type": "execute_result"
    }
   ],
   "source": [
    "df['label'].value_counts()\n"
   ]
  },
  {
   "cell_type": "code",
   "execution_count": 9,
   "id": "ffbbaff3",
   "metadata": {},
   "outputs": [
    {
     "data": {
      "image/png": "[encoded data removed]",
      "text/plain": [
       "<Figure size 640x480 with 1 Axes>"
      ]
     },
     "metadata": {},
     "output_type": "display_data"
    }
   ],
   "source": [
    "sns.countplot(x='label',data=df)\n",
    "plt.title('Label Distribution')\n",
    "plt.show()"
   ]
  },
  {
   "cell_type": "code",
   "execution_count": 10,
   "id": "e189bfa5",
   "metadata": {},
   "outputs": [
    {
     "data": {
      "image/png": "[encoded data removed]",
      "text/plain": [
       "<Figure size 640x480 with 1 Axes>"
      ]
     },
     "metadata": {},
     "output_type": "display_data"
    }
   ],
   "source": [
    "df['text_length']  = df['text'].apply(lambda x: len(str(x).split()))\n",
    "sns.histplot(df['text_length'],bins=50, kde=True)\n",
    "plt.title(\"Text Length Distribution\")\n",
    "plt.show()"
   ]
  },
  {
   "cell_type": "code",
   "execution_count": 11,
   "id": "09cf9801",
   "metadata": {},
   "outputs": [
    {
     "data": {
      "image/png": "[encoded data removed]",
      "text/plain": [
       "<Figure size 640x480 with 1 Axes>"
      ]
     },
     "metadata": {},
     "output_type": "display_data"
    },
    {
     "name": "stdout",
     "output_type": "stream",
     "text": [
      "label\n",
      "FAKE    8.148346\n",
      "REAL    8.121612\n",
      "Name: text_length, dtype: float64\n"
     ]
    }
   ],
   "source": [
    "df['text_length'] = df['text'].astype(str).apply(lambda x: len(x.split()))\n",
    "\n",
    "sns.boxplot(x='label',y='text_length',data=df)\n",
    "plt.title(\"Text Length by Label\")\n",
    "plt.show()\n",
    "\n",
    "print(df.groupby('label')['text_length'].mean())"
   ]
  },
  {
   "cell_type": "code",
   "execution_count": 12,
   "id": "31e867c1",
   "metadata": {},
   "outputs": [],
   "source": [
    "df.to_pickle(\"../../data/trimmed_processed/FEVER.pkl\")"
   ]
  }
 ],
 "metadata": {
  "kernelspec": {
   "display_name": "Python 3",
   "language": "python",
   "name": "python3"
  },
  "language_info": {
   "codemirror_mode": {
    "name": "ipython",
    "version": 3
   },
   "file_extension": ".py",
   "mimetype": "text/x-python",
   "name": "python",
   "nbconvert_exporter": "python",
   "pygments_lexer": "ipython3",
   "version": "3.12.0"
  }
 },
 "nbformat": 4,
 "nbformat_minor": 5
}
