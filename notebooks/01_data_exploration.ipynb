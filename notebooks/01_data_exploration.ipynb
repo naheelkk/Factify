{
 "cells": [
  {
   "cell_type": "code",
   "execution_count": 37,
   "id": "8a1abcf6",
   "metadata": {},
   "outputs": [],
   "source": [
    "import re\n",
    "\n",
    "def clean_text(text):\n",
    "    text = str(text).lower()  # Convert to lowercase\n",
    "    text = re.sub(r'http\\S+|www\\S+', '', text)  # Remove URLs\n",
    "    text = re.sub(r'[^a-zA-Z0-9\\s]', '', text)  # Remove punctuation (but keep spaces)\n",
    "    text = re.sub(r'\\s+', ' ', text).strip()    # Normalize multiple spaces to one\n",
    "    return text\n",
    "\n"
   ]
  },
  {
   "cell_type": "code",
   "execution_count": 32,
   "id": "dde4d452",
   "metadata": {},
   "outputs": [],
   "source": [
    "import pandas as pd\n",
    "\n",
    "real = pd.read_csv(\"../data/raw/True.csv\")\n",
    "fake = pd.read_csv(\"../data/raw/Fake.csv\")\n",
    "\n",
    "real['label'] = \"REAL\"\n",
    "fake[\"label\"] = \"FAKE\""
   ]
  },
  {
   "cell_type": "code",
   "execution_count": 40,
   "id": "48382846",
   "metadata": {},
   "outputs": [],
   "source": [
    "cols = ['id', 'label', 'statement', 'subject', 'speaker', 'job', 'state', 'party', 'barely_true', 'false', 'half_true', 'mostly_true', 'pants_on_fire', 'context']\n",
    "\n",
    "train = pd.read_csv(\"../data/raw/train.tsv\",sep=\"\\t\",header=None,names=cols)\n",
    "test = pd.read_csv(\"../data/raw/test.tsv\",sep=\"\\t\",header=None,names=cols)\n",
    "valid = pd.read_csv(\"../data/raw/valid.tsv\",sep=\"\\t\",header=None,names=cols)\n",
    "\n",
    "liar = pd.concat([train,test,valid]).reset_index(drop=True)\n",
    "\n",
    "fake_labels = ['pants-fire', 'false', 'barely-true']\n",
    "real_labels = ['half-true', 'mostly-true', 'true']\n",
    "\n",
    "liar['label'] = liar['label'].apply(lambda x: 'FAKE' if x in fake_labels else 'REAL')\n",
    "\n",
    "liar['text'] = liar['statement'].apply(clean_text)\n",
    "liar = liar[['text','label']]\n",
    "\n",
    "\n",
    "# Save\n",
    "liar.to_csv(\"../data/processed/liar_clean.csv\", index=False)"
   ]
  },
  {
   "cell_type": "code",
   "execution_count": 34,
   "id": "aa3c4baa",
   "metadata": {},
   "outputs": [],
   "source": [
    "df = pd.concat([real,fake]).reset_index(drop=True)\n",
    "df['text'] = (df['title']+\" \"+df[\"text\"]).apply(clean_text)\n",
    "df = df[[\"text\",\"label\"]]"
   ]
  },
  {
   "cell_type": "code",
   "execution_count": 35,
   "id": "4fc53b27",
   "metadata": {},
   "outputs": [
    {
     "data": {
      "text/html": [
       "<div>\n",
       "<style scoped>\n",
       "    .dataframe tbody tr th:only-of-type {\n",
       "        vertical-align: middle;\n",
       "    }\n",
       "\n",
       "    .dataframe tbody tr th {\n",
       "        vertical-align: top;\n",
       "    }\n",
       "\n",
       "    .dataframe thead th {\n",
       "        text-align: right;\n",
       "    }\n",
       "</style>\n",
       "<table border=\"1\" class=\"dataframe\">\n",
       "  <thead>\n",
       "    <tr style=\"text-align: right;\">\n",
       "      <th></th>\n",
       "      <th>text</th>\n",
       "      <th>label</th>\n",
       "    </tr>\n",
       "  </thead>\n",
       "  <tbody>\n",
       "    <tr>\n",
       "      <th>0</th>\n",
       "      <td>as us budget fight looms republicans flip thei...</td>\n",
       "      <td>REAL</td>\n",
       "    </tr>\n",
       "    <tr>\n",
       "      <th>1</th>\n",
       "      <td>us military to accept transgender recruits on ...</td>\n",
       "      <td>REAL</td>\n",
       "    </tr>\n",
       "    <tr>\n",
       "      <th>2</th>\n",
       "      <td>senior us republican senator let mr mueller do...</td>\n",
       "      <td>REAL</td>\n",
       "    </tr>\n",
       "    <tr>\n",
       "      <th>3</th>\n",
       "      <td>fbi russia probe helped by australian diplomat...</td>\n",
       "      <td>REAL</td>\n",
       "    </tr>\n",
       "    <tr>\n",
       "      <th>4</th>\n",
       "      <td>trump wants postal service to charge much more...</td>\n",
       "      <td>REAL</td>\n",
       "    </tr>\n",
       "  </tbody>\n",
       "</table>\n",
       "</div>"
      ],
      "text/plain": [
       "                                                text label\n",
       "0  as us budget fight looms republicans flip thei...  REAL\n",
       "1  us military to accept transgender recruits on ...  REAL\n",
       "2  senior us republican senator let mr mueller do...  REAL\n",
       "3  fbi russia probe helped by australian diplomat...  REAL\n",
       "4  trump wants postal service to charge much more...  REAL"
      ]
     },
     "execution_count": 35,
     "metadata": {},
     "output_type": "execute_result"
    }
   ],
   "source": [
    "df.head()"
   ]
  },
  {
   "cell_type": "code",
   "execution_count": 36,
   "id": "039e3ea6",
   "metadata": {},
   "outputs": [
    {
     "name": "stdout",
     "output_type": "stream",
     "text": [
      "<class 'pandas.core.frame.DataFrame'>\n",
      "RangeIndex: 44898 entries, 0 to 44897\n",
      "Data columns (total 2 columns):\n",
      " #   Column  Non-Null Count  Dtype \n",
      "---  ------  --------------  ----- \n",
      " 0   text    44898 non-null  object\n",
      " 1   label   44898 non-null  object\n",
      "dtypes: object(2)\n",
      "memory usage: 701.7+ KB\n"
     ]
    },
    {
     "data": {
      "text/plain": [
       "label\n",
       "FAKE    23481\n",
       "REAL    21417\n",
       "Name: count, dtype: int64"
      ]
     },
     "execution_count": 36,
     "metadata": {},
     "output_type": "execute_result"
    }
   ],
   "source": [
    "df.info()\n",
    "df['label'].value_counts()"
   ]
  },
  {
   "cell_type": "code",
   "execution_count": null,
   "id": "66aa00a3",
   "metadata": {},
   "outputs": [],
   "source": []
  }
 ],
 "metadata": {
  "kernelspec": {
   "display_name": "Python 3",
   "language": "python",
   "name": "python3"
  },
  "language_info": {
   "codemirror_mode": {
    "name": "ipython",
    "version": 3
   },
   "file_extension": ".py",
   "mimetype": "text/x-python",
   "name": "python",
   "nbconvert_exporter": "python",
   "pygments_lexer": "ipython3",
   "version": "3.12.0"
  }
 },
 "nbformat": 4,
 "nbformat_minor": 5
}
