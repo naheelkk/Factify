{
 "cells": [
  {
   "cell_type": "code",
   "execution_count": 1,
   "id": "8a1abcf6",
   "metadata": {},
   "outputs": [],
   "source": [
    "import re\n",
    "\n",
    "def clean_text(text):\n",
    "    text = str(text).lower()  # Convert to lowercase\n",
    "    text = re.sub(r'http\\S+|www\\S+', '', text)  # Remove URLs\n",
    "    text = re.sub(r'[^a-zA-Z0-9\\s]', '', text)  # Remove punctuation (but keep spaces)\n",
    "    text = re.sub(r'\\s+', ' ', text).strip()    # Normalize multiple spaces to one\n",
    "    return text\n",
    "\n"
   ]
  },
  {
   "cell_type": "code",
   "execution_count": 2,
   "id": "dde4d452",
   "metadata": {},
   "outputs": [],
   "source": [
    "import pandas as pd\n",
    "\n",
    "real = pd.read_csv(\"../data/raw/True.csv\")\n",
    "fake = pd.read_csv(\"../data/raw/Fake.csv\")\n",
    "\n",
    "real['label'] = \"REAL\"\n",
    "fake[\"label\"] = \"FAKE\"\n",
    "\n",
    "# print(real.isnull().sum())\n",
    "# print(fake.isnull().sum())"
   ]
  },
  {
   "cell_type": "code",
   "execution_count": 3,
   "id": "48382846",
   "metadata": {},
   "outputs": [],
   "source": [
    "cols = ['id', 'label', 'statement', 'subject', 'speaker', 'job', 'state', 'party', 'barely_true', 'false', 'half_true', 'mostly_true', 'pants_on_fire', 'context']\n",
    "\n",
    "train = pd.read_csv(\"../data/raw/train.tsv\",sep=\"\\t\",header=None,names=cols)\n",
    "test = pd.read_csv(\"../data/raw/test.tsv\",sep=\"\\t\",header=None,names=cols)\n",
    "valid = pd.read_csv(\"../data/raw/valid.tsv\",sep=\"\\t\",header=None,names=cols)\n",
    "\n",
    "liar = pd.concat([train,test,valid]).reset_index(drop=True)\n",
    "\n",
    "fake_labels = ['pants-fire', 'false', 'barely-true']\n",
    "real_labels = ['half-true', 'mostly-true', 'true']\n",
    "\n",
    "liar['label'] = liar['label'].apply(lambda x: 'FAKE' if x in fake_labels else 'REAL')\n",
    "\n",
    "liar['text'] = liar['statement'].apply(clean_text)\n",
    "liar = liar[['text','label']]\n",
    "\n",
    "\n",
    "# Save\n",
    "liar.to_csv(\"../data/processed/liar_clean.csv\", index=False)"
   ]
  },
  {
   "cell_type": "code",
   "execution_count": 4,
   "id": "6cdd6996",
   "metadata": {},
   "outputs": [
    {
     "name": "stdout",
     "output_type": "stream",
     "text": [
      "text     0\n",
      "label    0\n",
      "dtype: int64\n"
     ]
    }
   ],
   "source": [
    "print(liar.isnull().sum())"
   ]
  },
  {
   "cell_type": "code",
   "execution_count": 5,
   "id": "edebfeaf",
   "metadata": {},
   "outputs": [],
   "source": [
    "#welFake\n",
    "welfake = pd.read_csv(\"../data/raw/WELFake_Dataset.csv\")\n",
    "\n",
    "# print(welfake.columns.tolist())\n",
    "\n",
    "# welfake = welfake.rename(columns={'text_column_name':'text','label_column_name':'label'})\n",
    "welfake['label'] = welfake['label'].map({1:'REAL',0:'FAKE'})\n",
    "\n",
    "welfake = welfake.sample(50000,random_state=42)\n",
    "\n",
    "welfake['text'] = welfake['text'].apply(clean_text)\n",
    "welfake = welfake[['text','label']]\n",
    "\n",
    "welfake.to_csv(\"../data/processed/welfake_clean.csv.gz\")"
   ]
  },
  {
   "cell_type": "code",
   "execution_count": 7,
   "id": "72e329e8",
   "metadata": {},
   "outputs": [],
   "source": [
    "welfake.to_csv(\"../data/processed/welfake_clean.csv\")\n"
   ]
  },
  {
   "cell_type": "code",
   "execution_count": 6,
   "id": "548e9ab5",
   "metadata": {},
   "outputs": [
    {
     "name": "stdout",
     "output_type": "stream",
     "text": [
      "text     0\n",
      "label    0\n",
      "dtype: int64\n"
     ]
    }
   ],
   "source": [
    "print(welfake.isnull().sum())"
   ]
  },
  {
   "cell_type": "code",
   "execution_count": 12,
   "id": "98a5ee21",
   "metadata": {},
   "outputs": [
    {
     "name": "stdout",
     "output_type": "stream",
     "text": [
      "(109810, 2)\n"
     ]
    }
   ],
   "source": [
    "fever = pd.read_json(\"../data/raw/FEVER.jsonl\",lines=True)\n",
    "\n",
    "fever = fever[fever['label'].isin (['SUPPORTS',\"REFUTES\"])]\n",
    "\n",
    "fever['label'] = fever['label'].map({\n",
    "    'SUPPORTS':\"REAL\",\n",
    "    'REFUTES':\"FAKE\"\n",
    "})\n",
    "\n",
    "fever = fever[['claim','label']]\n",
    "fever = fever.rename(columns={'claim':'text'})\n",
    "fever = fever.dropna(subset=['text','label'])\n",
    "\n",
    "print(fever.shape)"
   ]
  },
  {
   "cell_type": "code",
   "execution_count": 13,
   "id": "cdbe4237",
   "metadata": {},
   "outputs": [
    {
     "data": {
      "text/html": [
       "<div>\n",
       "<style scoped>\n",
       "    .dataframe tbody tr th:only-of-type {\n",
       "        vertical-align: middle;\n",
       "    }\n",
       "\n",
       "    .dataframe tbody tr th {\n",
       "        vertical-align: top;\n",
       "    }\n",
       "\n",
       "    .dataframe thead th {\n",
       "        text-align: right;\n",
       "    }\n",
       "</style>\n",
       "<table border=\"1\" class=\"dataframe\">\n",
       "  <thead>\n",
       "    <tr style=\"text-align: right;\">\n",
       "      <th></th>\n",
       "      <th>text</th>\n",
       "      <th>label</th>\n",
       "    </tr>\n",
       "  </thead>\n",
       "  <tbody>\n",
       "    <tr>\n",
       "      <th>0</th>\n",
       "      <td>Nikolaj Coster-Waldau worked with the Fox Broa...</td>\n",
       "      <td>REAL</td>\n",
       "    </tr>\n",
       "    <tr>\n",
       "      <th>1</th>\n",
       "      <td>Roman Atwood is a content creator.</td>\n",
       "      <td>REAL</td>\n",
       "    </tr>\n",
       "    <tr>\n",
       "      <th>2</th>\n",
       "      <td>History of art includes architecture, dance, s...</td>\n",
       "      <td>REAL</td>\n",
       "    </tr>\n",
       "    <tr>\n",
       "      <th>3</th>\n",
       "      <td>Adrienne Bailon is an accountant.</td>\n",
       "      <td>FAKE</td>\n",
       "    </tr>\n",
       "    <tr>\n",
       "      <th>5</th>\n",
       "      <td>Homeland is an American television spy thrille...</td>\n",
       "      <td>REAL</td>\n",
       "    </tr>\n",
       "  </tbody>\n",
       "</table>\n",
       "</div>"
      ],
      "text/plain": [
       "                                                text label\n",
       "0  Nikolaj Coster-Waldau worked with the Fox Broa...  REAL\n",
       "1                 Roman Atwood is a content creator.  REAL\n",
       "2  History of art includes architecture, dance, s...  REAL\n",
       "3                  Adrienne Bailon is an accountant.  FAKE\n",
       "5  Homeland is an American television spy thrille...  REAL"
      ]
     },
     "execution_count": 13,
     "metadata": {},
     "output_type": "execute_result"
    }
   ],
   "source": [
    "fever.head()"
   ]
  },
  {
   "cell_type": "code",
   "execution_count": 20,
   "id": "004fddd6",
   "metadata": {},
   "outputs": [],
   "source": [
    "indian = pd.read_csv('../data/raw/indian.csv')\n",
    "\n",
    "indian = indian[['text','label']]\n",
    "indian = indian.dropna(subset=['label','text'])\n"
   ]
  },
  {
   "cell_type": "code",
   "execution_count": 21,
   "id": "76f2e265",
   "metadata": {},
   "outputs": [
    {
     "data": {
      "text/html": [
       "<div>\n",
       "<style scoped>\n",
       "    .dataframe tbody tr th:only-of-type {\n",
       "        vertical-align: middle;\n",
       "    }\n",
       "\n",
       "    .dataframe tbody tr th {\n",
       "        vertical-align: top;\n",
       "    }\n",
       "\n",
       "    .dataframe thead th {\n",
       "        text-align: right;\n",
       "    }\n",
       "</style>\n",
       "<table border=\"1\" class=\"dataframe\">\n",
       "  <thead>\n",
       "    <tr style=\"text-align: right;\">\n",
       "      <th></th>\n",
       "      <th>text</th>\n",
       "      <th>label</th>\n",
       "    </tr>\n",
       "  </thead>\n",
       "  <tbody>\n",
       "    <tr>\n",
       "      <th>0</th>\n",
       "      <td>Payal has accused filmmaker Anurag Kashyap of ...</td>\n",
       "      <td>REAL</td>\n",
       "    </tr>\n",
       "    <tr>\n",
       "      <th>1</th>\n",
       "      <td>A four-minute-long video of a woman criticisin...</td>\n",
       "      <td>FAKE</td>\n",
       "    </tr>\n",
       "    <tr>\n",
       "      <th>2</th>\n",
       "      <td>Republic Poll, a fake Twitter account imitatin...</td>\n",
       "      <td>FAKE</td>\n",
       "    </tr>\n",
       "    <tr>\n",
       "      <th>3</th>\n",
       "      <td>Delhi teen finds place on UN green list, turns...</td>\n",
       "      <td>REAL</td>\n",
       "    </tr>\n",
       "    <tr>\n",
       "      <th>4</th>\n",
       "      <td>Delhi: A high-level meeting underway at reside...</td>\n",
       "      <td>REAL</td>\n",
       "    </tr>\n",
       "  </tbody>\n",
       "</table>\n",
       "</div>"
      ],
      "text/plain": [
       "                                                text label\n",
       "0  Payal has accused filmmaker Anurag Kashyap of ...  REAL\n",
       "1  A four-minute-long video of a woman criticisin...  FAKE\n",
       "2  Republic Poll, a fake Twitter account imitatin...  FAKE\n",
       "3  Delhi teen finds place on UN green list, turns...  REAL\n",
       "4  Delhi: A high-level meeting underway at reside...  REAL"
      ]
     },
     "execution_count": 21,
     "metadata": {},
     "output_type": "execute_result"
    }
   ],
   "source": [
    "indian.head()"
   ]
  },
  {
   "cell_type": "code",
   "execution_count": 22,
   "id": "25918d28",
   "metadata": {},
   "outputs": [
    {
     "data": {
      "text/plain": [
       "text     0\n",
       "label    0\n",
       "dtype: int64"
      ]
     },
     "execution_count": 22,
     "metadata": {},
     "output_type": "execute_result"
    }
   ],
   "source": [
    "indian.isnull().sum()"
   ]
  },
  {
   "cell_type": "code",
   "execution_count": 75,
   "id": "aa3c4baa",
   "metadata": {},
   "outputs": [],
   "source": [
    "df = pd.concat([real,fake,liar,welfake,fever,indian]).reset_index(drop=True)\n",
    "if 'title' in df.columns:\n",
    "    df['text'] = (df['title'].fillna('')+\" \"+df['text'].fillna(''))\n",
    "else:\n",
    "    df['text'] = df['text'].fillna('')\n",
    "\n",
    "df['text'] = (df['title']+\" \"+df[\"text\"]).apply(clean_text)\n",
    "df = df[[\"text\",\"label\"]]\n",
    "\n",
    "df.to_csv(\"../data/processed/merged_clean_dataset.csv\")"
   ]
  },
  {
   "cell_type": "code",
   "execution_count": 76,
   "id": "0cbf46bd",
   "metadata": {},
   "outputs": [
    {
     "data": {
      "text/plain": [
       "label\n",
       "REAL    136105\n",
       "FAKE     85115\n",
       "Name: count, dtype: int64"
      ]
     },
     "execution_count": 76,
     "metadata": {},
     "output_type": "execute_result"
    }
   ],
   "source": [
    "df['label'].value_counts()"
   ]
  },
  {
   "cell_type": "code",
   "execution_count": 65,
   "id": "2cefa270",
   "metadata": {},
   "outputs": [],
   "source": [
    "df.to_csv(\"../data/processed/merged_clean_dataset.csv.gz\")"
   ]
  },
  {
   "cell_type": "code",
   "execution_count": 77,
   "id": "4fc53b27",
   "metadata": {},
   "outputs": [
    {
     "data": {
      "text/html": [
       "<div>\n",
       "<style scoped>\n",
       "    .dataframe tbody tr th:only-of-type {\n",
       "        vertical-align: middle;\n",
       "    }\n",
       "\n",
       "    .dataframe tbody tr th {\n",
       "        vertical-align: top;\n",
       "    }\n",
       "\n",
       "    .dataframe thead th {\n",
       "        text-align: right;\n",
       "    }\n",
       "</style>\n",
       "<table border=\"1\" class=\"dataframe\">\n",
       "  <thead>\n",
       "    <tr style=\"text-align: right;\">\n",
       "      <th></th>\n",
       "      <th>text</th>\n",
       "      <th>label</th>\n",
       "    </tr>\n",
       "  </thead>\n",
       "  <tbody>\n",
       "    <tr>\n",
       "      <th>17336</th>\n",
       "      <td>spain state prosecutor asks for custody for ca...</td>\n",
       "      <td>REAL</td>\n",
       "    </tr>\n",
       "    <tr>\n",
       "      <th>19254</th>\n",
       "      <td>new zealands ruling nationals win most votes n...</td>\n",
       "      <td>REAL</td>\n",
       "    </tr>\n",
       "    <tr>\n",
       "      <th>179582</th>\n",
       "      <td>nan</td>\n",
       "      <td>FAKE</td>\n",
       "    </tr>\n",
       "    <tr>\n",
       "      <th>30372</th>\n",
       "      <td>nra thugs threaten lawmakers with bullets for ...</td>\n",
       "      <td>FAKE</td>\n",
       "    </tr>\n",
       "    <tr>\n",
       "      <th>3899</th>\n",
       "      <td>trumps pick for army secretary drops out offic...</td>\n",
       "      <td>REAL</td>\n",
       "    </tr>\n",
       "    <tr>\n",
       "      <th>...</th>\n",
       "      <td>...</td>\n",
       "      <td>...</td>\n",
       "    </tr>\n",
       "    <tr>\n",
       "      <th>188548</th>\n",
       "      <td>nan</td>\n",
       "      <td>FAKE</td>\n",
       "    </tr>\n",
       "    <tr>\n",
       "      <th>102147</th>\n",
       "      <td>nan</td>\n",
       "      <td>FAKE</td>\n",
       "    </tr>\n",
       "    <tr>\n",
       "      <th>87741</th>\n",
       "      <td>nan</td>\n",
       "      <td>REAL</td>\n",
       "    </tr>\n",
       "    <tr>\n",
       "      <th>28801</th>\n",
       "      <td>bristol palin cheers for christian students fo...</td>\n",
       "      <td>FAKE</td>\n",
       "    </tr>\n",
       "    <tr>\n",
       "      <th>167601</th>\n",
       "      <td>nan</td>\n",
       "      <td>REAL</td>\n",
       "    </tr>\n",
       "  </tbody>\n",
       "</table>\n",
       "<p>66366 rows × 2 columns</p>\n",
       "</div>"
      ],
      "text/plain": [
       "                                                     text label\n",
       "17336   spain state prosecutor asks for custody for ca...  REAL\n",
       "19254   new zealands ruling nationals win most votes n...  REAL\n",
       "179582                                                nan  FAKE\n",
       "30372   nra thugs threaten lawmakers with bullets for ...  FAKE\n",
       "3899    trumps pick for army secretary drops out offic...  REAL\n",
       "...                                                   ...   ...\n",
       "188548                                                nan  FAKE\n",
       "102147                                                nan  FAKE\n",
       "87741                                                 nan  REAL\n",
       "28801   bristol palin cheers for christian students fo...  FAKE\n",
       "167601                                                nan  REAL\n",
       "\n",
       "[66366 rows x 2 columns]"
      ]
     },
     "execution_count": 77,
     "metadata": {},
     "output_type": "execute_result"
    }
   ],
   "source": [
    "df.sample(random_state=42,frac=0.3)"
   ]
  },
  {
   "cell_type": "code",
   "execution_count": 78,
   "id": "039e3ea6",
   "metadata": {},
   "outputs": [
    {
     "name": "stdout",
     "output_type": "stream",
     "text": [
      "<class 'pandas.core.frame.DataFrame'>\n",
      "RangeIndex: 221220 entries, 0 to 221219\n",
      "Data columns (total 2 columns):\n",
      " #   Column  Non-Null Count   Dtype \n",
      "---  ------  --------------   ----- \n",
      " 0   text    221220 non-null  object\n",
      " 1   label   221220 non-null  object\n",
      "dtypes: object(2)\n",
      "memory usage: 3.4+ MB\n"
     ]
    },
    {
     "data": {
      "text/plain": [
       "label\n",
       "REAL    136105\n",
       "FAKE     85115\n",
       "Name: count, dtype: int64"
      ]
     },
     "execution_count": 78,
     "metadata": {},
     "output_type": "execute_result"
    }
   ],
   "source": [
    "df.info()\n",
    "df['label'].value_counts()"
   ]
  },
  {
   "cell_type": "code",
   "execution_count": 96,
   "id": "44a0de84",
   "metadata": {},
   "outputs": [
    {
     "data": {
      "text/plain": [
       "label\n",
       "REAL    136105\n",
       "FAKE     85115\n",
       "Name: count, dtype: int64"
      ]
     },
     "execution_count": 96,
     "metadata": {},
     "output_type": "execute_result"
    }
   ],
   "source": [
    "df['label'].value_counts()"
   ]
  },
  {
   "cell_type": "code",
   "execution_count": 97,
   "id": "66aa00a3",
   "metadata": {},
   "outputs": [],
   "source": [
    "merged = df.sample(frac=1, random_state=42).reset_index(drop=True)"
   ]
  },
  {
   "cell_type": "code",
   "execution_count": 98,
   "id": "719afeb2",
   "metadata": {},
   "outputs": [
    {
     "name": "stdout",
     "output_type": "stream",
     "text": [
      "<class 'pandas.core.frame.DataFrame'>\n",
      "RangeIndex: 221220 entries, 0 to 221219\n",
      "Data columns (total 2 columns):\n",
      " #   Column  Non-Null Count   Dtype \n",
      "---  ------  --------------   ----- \n",
      " 0   text    221220 non-null  object\n",
      " 1   label   221220 non-null  object\n",
      "dtypes: object(2)\n",
      "memory usage: 3.4+ MB\n"
     ]
    },
    {
     "data": {
      "text/plain": [
       "label\n",
       "REAL    136105\n",
       "FAKE     85115\n",
       "Name: count, dtype: int64"
      ]
     },
     "execution_count": 98,
     "metadata": {},
     "output_type": "execute_result"
    }
   ],
   "source": [
    "merged.info()\n",
    "merged['label'].value_counts()\n",
    "# merged.dropna()\n"
   ]
  },
  {
   "cell_type": "code",
   "execution_count": 99,
   "id": "387b0c50",
   "metadata": {},
   "outputs": [
    {
     "data": {
      "text/plain": [
       "text     0\n",
       "label    0\n",
       "dtype: int64"
      ]
     },
     "execution_count": 99,
     "metadata": {},
     "output_type": "execute_result"
    }
   ],
   "source": [
    "merged.isnull().sum()"
   ]
  },
  {
   "cell_type": "code",
   "execution_count": 100,
   "id": "1ebdb8ef",
   "metadata": {},
   "outputs": [
    {
     "data": {
      "text/plain": [
       "label\n",
       "REAL    136105\n",
       "FAKE     85115\n",
       "Name: count, dtype: int64"
      ]
     },
     "execution_count": 100,
     "metadata": {},
     "output_type": "execute_result"
    }
   ],
   "source": [
    "merged['label'].value_counts()"
   ]
  },
  {
   "cell_type": "code",
   "execution_count": 101,
   "id": "2300c90e",
   "metadata": {},
   "outputs": [],
   "source": [
    "merged.dropna(subset=['text'],inplace=True)"
   ]
  },
  {
   "cell_type": "code",
   "execution_count": 102,
   "id": "9d321a19",
   "metadata": {},
   "outputs": [
    {
     "name": "stdout",
     "output_type": "stream",
     "text": [
      "<class 'pandas.core.frame.DataFrame'>\n",
      "RangeIndex: 221220 entries, 0 to 221219\n",
      "Data columns (total 2 columns):\n",
      " #   Column  Non-Null Count   Dtype \n",
      "---  ------  --------------   ----- \n",
      " 0   text    221220 non-null  object\n",
      " 1   label   221220 non-null  object\n",
      "dtypes: object(2)\n",
      "memory usage: 3.4+ MB\n",
      "None\n"
     ]
    }
   ],
   "source": [
    "print(merged.info())\n"
   ]
  },
  {
   "cell_type": "code",
   "execution_count": 103,
   "id": "925428df",
   "metadata": {},
   "outputs": [
    {
     "data": {
      "text/plain": [
       "label\n",
       "REAL    136105\n",
       "FAKE     85115\n",
       "Name: count, dtype: int64"
      ]
     },
     "execution_count": 103,
     "metadata": {},
     "output_type": "execute_result"
    }
   ],
   "source": [
    "merged['label'].value_counts()\n"
   ]
  },
  {
   "cell_type": "code",
   "execution_count": 104,
   "id": "a76da1f5",
   "metadata": {},
   "outputs": [],
   "source": [
    "merged.to_csv(\"../data/processed/merged_clean_dataset.csv\")\n",
    "merged.to_csv(\"../data/processed/merged_clean_dataset.csv.gz\")\n"
   ]
  }
 ],
 "metadata": {
  "kernelspec": {
   "display_name": "Python 3",
   "language": "python",
   "name": "python3"
  },
  "language_info": {
   "codemirror_mode": {
    "name": "ipython",
    "version": 3
   },
   "file_extension": ".py",
   "mimetype": "text/x-python",
   "name": "python",
   "nbconvert_exporter": "python",
   "pygments_lexer": "ipython3",
   "version": "3.12.0"
  }
 },
 "nbformat": 4,
 "nbformat_minor": 5
}
