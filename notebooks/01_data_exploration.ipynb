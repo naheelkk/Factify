{
 "cells": [
  {
   "cell_type": "code",
   "execution_count": 1,
   "id": "8a1abcf6",
   "metadata": {},
   "outputs": [],
   "source": [
    "import re\n",
    "\n",
    "def clean_text(text):\n",
    "    text = str(text).lower()  # Convert to lowercase\n",
    "    text = re.sub(r'http\\S+|www\\S+', '', text)  # Remove URLs\n",
    "    text = re.sub(r'[^a-zA-Z0-9\\s]', '', text)  # Remove punctuation (but keep spaces)\n",
    "    text = re.sub(r'\\s+', ' ', text).strip()    # Normalize multiple spaces to one\n",
    "    return text\n",
    "\n"
   ]
  },
  {
   "cell_type": "code",
   "execution_count": 2,
   "id": "dde4d452",
   "metadata": {},
   "outputs": [],
   "source": [
    "import pandas as pd\n",
    "\n",
    "real = pd.read_csv(\"../data/raw/True.csv\")\n",
    "fake = pd.read_csv(\"../data/raw/Fake.csv\")\n",
    "\n",
    "real['label'] = \"REAL\"\n",
    "fake[\"label\"] = \"FAKE\"\n",
    "\n",
    "# print(real.isnull().sum())\n",
    "# print(fake.isnull().sum())"
   ]
  },
  {
   "cell_type": "code",
   "execution_count": 3,
   "id": "48382846",
   "metadata": {},
   "outputs": [],
   "source": [
    "cols = ['id', 'label', 'statement', 'subject', 'speaker', 'job', 'state', 'party', 'barely_true', 'false', 'half_true', 'mostly_true', 'pants_on_fire', 'context']\n",
    "\n",
    "train = pd.read_csv(\"../data/raw/train.tsv\",sep=\"\\t\",header=None,names=cols)\n",
    "test = pd.read_csv(\"../data/raw/test.tsv\",sep=\"\\t\",header=None,names=cols)\n",
    "valid = pd.read_csv(\"../data/raw/valid.tsv\",sep=\"\\t\",header=None,names=cols)\n",
    "\n",
    "liar = pd.concat([train,test,valid]).reset_index(drop=True)\n",
    "\n",
    "fake_labels = ['pants-fire', 'false', 'barely-true']\n",
    "real_labels = ['half-true', 'mostly-true', 'true']\n",
    "\n",
    "liar['label'] = liar['label'].apply(lambda x: 'FAKE' if x in fake_labels else 'REAL')\n",
    "\n",
    "liar['text'] = liar['statement'].apply(clean_text)\n",
    "liar = liar[['text','label']]\n",
    "\n",
    "\n",
    "# Save\n",
    "liar.to_csv(\"../data/processed/liar_clean.csv\", index=False)"
   ]
  },
  {
   "cell_type": "code",
   "execution_count": 4,
   "id": "6cdd6996",
   "metadata": {},
   "outputs": [
    {
     "name": "stdout",
     "output_type": "stream",
     "text": [
      "text     0\n",
      "label    0\n",
      "dtype: int64\n"
     ]
    }
   ],
   "source": [
    "print(liar.isnull().sum())"
   ]
  },
  {
   "cell_type": "code",
   "execution_count": 5,
   "id": "edebfeaf",
   "metadata": {},
   "outputs": [],
   "source": [
    "#welFake\n",
    "welfake = pd.read_csv(\"../data/raw/WELFake_Dataset.csv\")\n",
    "\n",
    "# print(welfake.columns.tolist())\n",
    "\n",
    "# welfake = welfake.rename(columns={'text_column_name':'text','label_column_name':'label'})\n",
    "welfake['label'] = welfake['label'].map({1:'REAL',0:'FAKE'})\n",
    "\n",
    "welfake = welfake.sample(50000,random_state=42)\n",
    "\n",
    "welfake['text'] = welfake['text'].apply(clean_text)\n",
    "welfake = welfake[['text','label']]\n",
    "\n",
    "welfake.to_csv(\"../data/processed/welfake_clean.csv.gz\")"
   ]
  },
  {
   "cell_type": "code",
   "execution_count": 7,
   "id": "72e329e8",
   "metadata": {},
   "outputs": [],
   "source": [
    "welfake.to_csv(\"../data/processed/welfake_clean.csv\")\n"
   ]
  },
  {
   "cell_type": "code",
   "execution_count": 6,
   "id": "548e9ab5",
   "metadata": {},
   "outputs": [
    {
     "name": "stdout",
     "output_type": "stream",
     "text": [
      "text     0\n",
      "label    0\n",
      "dtype: int64\n"
     ]
    }
   ],
   "source": [
    "print(welfake.isnull().sum())"
   ]
  },
  {
   "cell_type": "code",
   "execution_count": 12,
   "id": "98a5ee21",
   "metadata": {},
   "outputs": [
    {
     "name": "stdout",
     "output_type": "stream",
     "text": [
      "(109810, 2)\n"
     ]
    }
   ],
   "source": [
    "fever = pd.read_json(\"../data/raw/FEVER.jsonl\",lines=True)\n",
    "\n",
    "fever = fever[fever['label'].isin (['SUPPORTS',\"REFUTES\"])]\n",
    "\n",
    "fever['label'] = fever['label'].map({\n",
    "    'SUPPORTS':\"REAL\",\n",
    "    'REFUTES':\"FAKE\"\n",
    "})\n",
    "\n",
    "fever = fever[['claim','label']]\n",
    "fever = fever.rename(columns={'claim':'text'})\n",
    "fever = fever.dropna(subset=['text','label'])\n",
    "\n",
    "print(fever.shape)"
   ]
  },
  {
   "cell_type": "code",
   "execution_count": 20,
   "id": "004fddd6",
   "metadata": {},
   "outputs": [],
   "source": [
    "indian = pd.read_csv('../data/raw/indian.csv')\n",
    "\n",
    "indian = indian[['text','label']]\n",
    "indian = indian.dropna(subset=['label','text'])\n"
   ]
  },
  {
   "cell_type": "code",
   "execution_count": 22,
   "id": "25918d28",
   "metadata": {},
   "outputs": [
    {
     "data": {
      "text/plain": [
       "text     0\n",
       "label    0\n",
       "dtype: int64"
      ]
     },
     "execution_count": 22,
     "metadata": {},
     "output_type": "execute_result"
    }
   ],
   "source": [
    "indian.isnull().sum()"
   ]
  },
  {
   "cell_type": "code",
   "execution_count": 75,
   "id": "aa3c4baa",
   "metadata": {},
   "outputs": [],
   "source": [
    "df = pd.concat([real,fake,liar,welfake,fever,indian]).reset_index(drop=True)\n",
    "if 'title' in df.columns:\n",
    "    df['text'] = (df['title'].fillna('')+\" \"+df['text'].fillna(''))\n",
    "else:\n",
    "    df['text'] = df['text'].fillna('')\n",
    "\n",
    "df['text'] = (df['title']+\" \"+df[\"text\"]).apply(clean_text)\n",
    "df = df[[\"text\",\"label\"]]\n",
    "\n",
    "df.to_csv(\"../data/processed/merged_clean_dataset.csv\")"
   ]
  },
  {
   "cell_type": "code",
   "execution_count": 76,
   "id": "0cbf46bd",
   "metadata": {},
   "outputs": [
    {
     "data": {
      "text/plain": [
       "label\n",
       "REAL    136105\n",
       "FAKE     85115\n",
       "Name: count, dtype: int64"
      ]
     },
     "execution_count": 76,
     "metadata": {},
     "output_type": "execute_result"
    }
   ],
   "source": [
    "df['label'].value_counts()"
   ]
  },
  {
   "cell_type": "code",
   "execution_count": 65,
   "id": "2cefa270",
   "metadata": {},
   "outputs": [],
   "source": [
    "df.to_csv(\"../data/processed/merged_clean_dataset.csv.gz\")"
   ]
  },
  {
   "cell_type": "code",
   "execution_count": 97,
   "id": "66aa00a3",
   "metadata": {},
   "outputs": [],
   "source": [
    "merged = df.sample(frac=1, random_state=42).reset_index(drop=True)"
   ]
  },
  {
   "cell_type": "code",
   "execution_count": 98,
   "id": "719afeb2",
   "metadata": {},
   "outputs": [
    {
     "name": "stdout",
     "output_type": "stream",
     "text": [
      "<class 'pandas.core.frame.DataFrame'>\n",
      "RangeIndex: 221220 entries, 0 to 221219\n",
      "Data columns (total 2 columns):\n",
      " #   Column  Non-Null Count   Dtype \n",
      "---  ------  --------------   ----- \n",
      " 0   text    221220 non-null  object\n",
      " 1   label   221220 non-null  object\n",
      "dtypes: object(2)\n",
      "memory usage: 3.4+ MB\n"
     ]
    },
    {
     "data": {
      "text/plain": [
       "label\n",
       "REAL    136105\n",
       "FAKE     85115\n",
       "Name: count, dtype: int64"
      ]
     },
     "execution_count": 98,
     "metadata": {},
     "output_type": "execute_result"
    }
   ],
   "source": [
    "merged.info()\n",
    "merged['label'].value_counts()\n",
    "# merged.dropna()\n"
   ]
  },
  {
   "cell_type": "code",
   "execution_count": 99,
   "id": "387b0c50",
   "metadata": {},
   "outputs": [
    {
     "data": {
      "text/plain": [
       "text     0\n",
       "label    0\n",
       "dtype: int64"
      ]
     },
     "execution_count": 99,
     "metadata": {},
     "output_type": "execute_result"
    }
   ],
   "source": [
    "merged.isnull().sum()"
   ]
  },
  {
   "cell_type": "code",
   "execution_count": 101,
   "id": "2300c90e",
   "metadata": {},
   "outputs": [],
   "source": [
    "merged.dropna(subset=['text'],inplace=True)"
   ]
  },
  {
   "cell_type": "code",
   "execution_count": 104,
   "id": "a76da1f5",
   "metadata": {},
   "outputs": [],
   "source": [
    "merged.to_csv(\"../data/processed/merged_clean_dataset.csv\")\n",
    "merged.to_csv(\"../data/processed/merged_clean_dataset.csv.gz\")\n"
   ]
  },
  {
   "cell_type": "markdown",
   "id": "22ff8a83",
   "metadata": {},
   "source": [
    "### Now We'll do some EDA on these preprocessed data"
   ]
  },
  {
   "cell_type": "code",
   "execution_count": 1,
   "id": "cf6a35fc",
   "metadata": {},
   "outputs": [
    {
     "data": {
      "image/png": "[encoded data removed]",
      "text/plain": [
       "<Figure size 640x480 with 1 Axes>"
      ]
     },
     "metadata": {},
     "output_type": "display_data"
    }
   ],
   "source": [
    "import pandas as pd\n",
    "import matplotlib.pyplot as plt\n",
    "import seaborn as sns\n",
    "from collections import Counter\n",
    "from wordcloud import WordCloud\n",
    "\n",
    "df = pd.read_csv('../data/processed/merged_clean_dataset.csv')\n",
    "\n",
    "sns.countplot(x='label',data=df)\n",
    "plt.title(\"Label Distribution\")\n",
    "plt.show()"
   ]
  },
  {
   "cell_type": "code",
   "execution_count": 3,
   "id": "07488013",
   "metadata": {},
   "outputs": [
    {
     "data": {
      "image/png": "[encoded data removed]",
      "text/plain": [
       "<Figure size 640x480 with 1 Axes>"
      ]
     },
     "metadata": {},
     "output_type": "display_data"
    }
   ],
   "source": [
    "df['text_length'] = df['text'].apply(lambda x: len(str(x).split()))\n",
    "sns.histplot(df['text_length'],bins=50, kde=True)\n",
    "plt.title(\"Text Length Distribution\")\n",
    "plt.show()"
   ]
  }
 ],
 "metadata": {
  "kernelspec": {
   "display_name": "Python 3",
   "language": "python",
   "name": "python3"
  },
  "language_info": {
   "codemirror_mode": {
    "name": "ipython",
    "version": 3
   },
   "file_extension": ".py",
   "mimetype": "text/x-python",
   "name": "python",
   "nbconvert_exporter": "python",
   "pygments_lexer": "ipython3",
   "version": "3.12.0"
  }
 },
 "nbformat": 4,
 "nbformat_minor": 5
}
