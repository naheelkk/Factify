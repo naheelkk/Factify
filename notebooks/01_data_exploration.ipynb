{
 "cells": [
  {
   "cell_type": "code",
   "execution_count": 1,
   "id": "8a1abcf6",
   "metadata": {},
   "outputs": [],
   "source": [
    "import re\n",
    "\n",
    "def clean_text(text):\n",
    "    text = str(text).lower()  # Convert to lowercase\n",
    "    text = re.sub(r'http\\S+|www\\S+', '', text)  # Remove URLs\n",
    "    text = re.sub(r'[^a-zA-Z0-9\\s]', '', text)  # Remove punctuation (but keep spaces)\n",
    "    text = re.sub(r'\\s+', ' ', text).strip()    # Normalize multiple spaces to one\n",
    "    return text\n",
    "\n"
   ]
  },
  {
   "cell_type": "code",
   "execution_count": 2,
   "id": "dde4d452",
   "metadata": {},
   "outputs": [],
   "source": [
    "import pandas as pd\n",
    "\n",
    "real = pd.read_csv(\"../data/raw/True.csv\")\n",
    "fake = pd.read_csv(\"../data/raw/Fake.csv\")\n",
    "\n",
    "real['label'] = \"REAL\"\n",
    "fake[\"label\"] = \"FAKE\"\n",
    "\n",
    "# print(real.isnull().sum())\n",
    "# print(fake.isnull().sum())"
   ]
  },
  {
   "cell_type": "code",
   "execution_count": 3,
   "id": "48382846",
   "metadata": {},
   "outputs": [],
   "source": [
    "cols = ['id', 'label', 'statement', 'subject', 'speaker', 'job', 'state', 'party', 'barely_true', 'false', 'half_true', 'mostly_true', 'pants_on_fire', 'context']\n",
    "\n",
    "train = pd.read_csv(\"../data/raw/train.tsv\",sep=\"\\t\",header=None,names=cols)\n",
    "test = pd.read_csv(\"../data/raw/test.tsv\",sep=\"\\t\",header=None,names=cols)\n",
    "valid = pd.read_csv(\"../data/raw/valid.tsv\",sep=\"\\t\",header=None,names=cols)\n",
    "\n",
    "liar = pd.concat([train,test,valid]).reset_index(drop=True)\n",
    "\n",
    "fake_labels = ['pants-fire', 'false', 'barely-true']\n",
    "real_labels = ['half-true', 'mostly-true', 'true']\n",
    "\n",
    "liar['label'] = liar['label'].apply(lambda x: 'FAKE' if x in fake_labels else 'REAL')\n",
    "\n",
    "liar['text'] = liar['statement'].apply(clean_text)\n",
    "liar = liar[['text','label']]\n",
    "\n",
    "\n",
    "# Save\n",
    "liar.to_csv(\"../data/processed/liar_clean.csv\", index=False)"
   ]
  },
  {
   "cell_type": "code",
   "execution_count": 4,
   "id": "6cdd6996",
   "metadata": {},
   "outputs": [
    {
     "name": "stdout",
     "output_type": "stream",
     "text": [
      "text     0\n",
      "label    0\n",
      "dtype: int64\n"
     ]
    }
   ],
   "source": [
    "print(liar.isnull().sum())"
   ]
  },
  {
   "cell_type": "code",
   "execution_count": 5,
   "id": "edebfeaf",
   "metadata": {},
   "outputs": [],
   "source": [
    "#welFake\n",
    "welfake = pd.read_csv(\"../data/raw/WELFake_Dataset.csv\")\n",
    "\n",
    "# print(welfake.columns.tolist())\n",
    "\n",
    "# welfake = welfake.rename(columns={'text_column_name':'text','label_column_name':'label'})\n",
    "welfake['label'] = welfake['label'].map({1:'REAL',0:'FAKE'})\n",
    "\n",
    "welfake = welfake.sample(50000,random_state=42)\n",
    "\n",
    "welfake['text'] = welfake['text'].apply(clean_text)\n",
    "welfake = welfake[['text','label']]\n",
    "\n",
    "welfake.to_csv(\"../data/processed/welfake_clean.csv.gz\")"
   ]
  },
  {
   "cell_type": "code",
   "execution_count": 7,
   "id": "72e329e8",
   "metadata": {},
   "outputs": [],
   "source": [
    "welfake.to_csv(\"../data/processed/welfake_clean.csv\")\n"
   ]
  },
  {
   "cell_type": "code",
   "execution_count": 6,
   "id": "548e9ab5",
   "metadata": {},
   "outputs": [
    {
     "name": "stdout",
     "output_type": "stream",
     "text": [
      "text     0\n",
      "label    0\n",
      "dtype: int64\n"
     ]
    }
   ],
   "source": [
    "print(welfake.isnull().sum())"
   ]
  },
  {
   "cell_type": "code",
   "execution_count": 12,
   "id": "98a5ee21",
   "metadata": {},
   "outputs": [
    {
     "name": "stdout",
     "output_type": "stream",
     "text": [
      "(109810, 2)\n"
     ]
    }
   ],
   "source": [
    "fever = pd.read_json(\"../data/raw/FEVER.jsonl\",lines=True)\n",
    "\n",
    "fever = fever[fever['label'].isin (['SUPPORTS',\"REFUTES\"])]\n",
    "\n",
    "fever['label'] = fever['label'].map({\n",
    "    'SUPPORTS':\"REAL\",\n",
    "    'REFUTES':\"FAKE\"\n",
    "})\n",
    "\n",
    "fever = fever[['claim','label']]\n",
    "fever = fever.rename(columns={'claim':'text'})\n",
    "fever = fever.dropna(subset=['text','label'])\n",
    "\n",
    "print(fever.shape)"
   ]
  },
  {
   "cell_type": "code",
   "execution_count": 13,
   "id": "cdbe4237",
   "metadata": {},
   "outputs": [
    {
     "data": {
      "text/html": [
       "<div>\n",
       "<style scoped>\n",
       "    .dataframe tbody tr th:only-of-type {\n",
       "        vertical-align: middle;\n",
       "    }\n",
       "\n",
       "    .dataframe tbody tr th {\n",
       "        vertical-align: top;\n",
       "    }\n",
       "\n",
       "    .dataframe thead th {\n",
       "        text-align: right;\n",
       "    }\n",
       "</style>\n",
       "<table border=\"1\" class=\"dataframe\">\n",
       "  <thead>\n",
       "    <tr style=\"text-align: right;\">\n",
       "      <th></th>\n",
       "      <th>text</th>\n",
       "      <th>label</th>\n",
       "    </tr>\n",
       "  </thead>\n",
       "  <tbody>\n",
       "    <tr>\n",
       "      <th>0</th>\n",
       "      <td>Nikolaj Coster-Waldau worked with the Fox Broa...</td>\n",
       "      <td>REAL</td>\n",
       "    </tr>\n",
       "    <tr>\n",
       "      <th>1</th>\n",
       "      <td>Roman Atwood is a content creator.</td>\n",
       "      <td>REAL</td>\n",
       "    </tr>\n",
       "    <tr>\n",
       "      <th>2</th>\n",
       "      <td>History of art includes architecture, dance, s...</td>\n",
       "      <td>REAL</td>\n",
       "    </tr>\n",
       "    <tr>\n",
       "      <th>3</th>\n",
       "      <td>Adrienne Bailon is an accountant.</td>\n",
       "      <td>FAKE</td>\n",
       "    </tr>\n",
       "    <tr>\n",
       "      <th>5</th>\n",
       "      <td>Homeland is an American television spy thrille...</td>\n",
       "      <td>REAL</td>\n",
       "    </tr>\n",
       "  </tbody>\n",
       "</table>\n",
       "</div>"
      ],
      "text/plain": [
       "                                                text label\n",
       "0  Nikolaj Coster-Waldau worked with the Fox Broa...  REAL\n",
       "1                 Roman Atwood is a content creator.  REAL\n",
       "2  History of art includes architecture, dance, s...  REAL\n",
       "3                  Adrienne Bailon is an accountant.  FAKE\n",
       "5  Homeland is an American television spy thrille...  REAL"
      ]
     },
     "execution_count": 13,
     "metadata": {},
     "output_type": "execute_result"
    }
   ],
   "source": [
    "fever.head()"
   ]
  },
  {
   "cell_type": "code",
   "execution_count": null,
   "id": "004fddd6",
   "metadata": {},
   "outputs": [],
   "source": []
  },
  {
   "cell_type": "code",
   "execution_count": null,
   "id": "aa3c4baa",
   "metadata": {},
   "outputs": [],
   "source": [
    "df = pd.concat([real,fake,liar,welfake]).reset_index(drop=True)\n",
    "df['text'] = (df['title']+\" \"+df[\"text\"]).apply(clean_text)\n",
    "df = df[[\"text\",\"label\"]]\n",
    "\n",
    "df.to_csv(\"../data/processed/merged_clean_dataset.csv\")"
   ]
  },
  {
   "cell_type": "code",
   "execution_count": 11,
   "id": "2cefa270",
   "metadata": {},
   "outputs": [],
   "source": [
    "df.to_csv(\"../data/processed/merged_clean_dataset.csv.gz\")"
   ]
  },
  {
   "cell_type": "code",
   "execution_count": null,
   "id": "4fc53b27",
   "metadata": {},
   "outputs": [
    {
     "data": {
      "text/html": [
       "<div>\n",
       "<style scoped>\n",
       "    .dataframe tbody tr th:only-of-type {\n",
       "        vertical-align: middle;\n",
       "    }\n",
       "\n",
       "    .dataframe tbody tr th {\n",
       "        vertical-align: top;\n",
       "    }\n",
       "\n",
       "    .dataframe thead th {\n",
       "        text-align: right;\n",
       "    }\n",
       "</style>\n",
       "<table border=\"1\" class=\"dataframe\">\n",
       "  <thead>\n",
       "    <tr style=\"text-align: right;\">\n",
       "      <th></th>\n",
       "      <th>text</th>\n",
       "      <th>label</th>\n",
       "    </tr>\n",
       "  </thead>\n",
       "  <tbody>\n",
       "    <tr>\n",
       "      <th>0</th>\n",
       "      <td>as us budget fight looms republicans flip thei...</td>\n",
       "      <td>REAL</td>\n",
       "    </tr>\n",
       "    <tr>\n",
       "      <th>1</th>\n",
       "      <td>us military to accept transgender recruits on ...</td>\n",
       "      <td>REAL</td>\n",
       "    </tr>\n",
       "    <tr>\n",
       "      <th>2</th>\n",
       "      <td>senior us republican senator let mr mueller do...</td>\n",
       "      <td>REAL</td>\n",
       "    </tr>\n",
       "    <tr>\n",
       "      <th>3</th>\n",
       "      <td>fbi russia probe helped by australian diplomat...</td>\n",
       "      <td>REAL</td>\n",
       "    </tr>\n",
       "    <tr>\n",
       "      <th>4</th>\n",
       "      <td>trump wants postal service to charge much more...</td>\n",
       "      <td>REAL</td>\n",
       "    </tr>\n",
       "  </tbody>\n",
       "</table>\n",
       "</div>"
      ],
      "text/plain": [
       "                                                text label\n",
       "0  as us budget fight looms republicans flip thei...  REAL\n",
       "1  us military to accept transgender recruits on ...  REAL\n",
       "2  senior us republican senator let mr mueller do...  REAL\n",
       "3  fbi russia probe helped by australian diplomat...  REAL\n",
       "4  trump wants postal service to charge much more...  REAL"
      ]
     },
     "execution_count": 35,
     "metadata": {},
     "output_type": "execute_result"
    }
   ],
   "source": [
    "df.head()"
   ]
  },
  {
   "cell_type": "code",
   "execution_count": null,
   "id": "039e3ea6",
   "metadata": {},
   "outputs": [
    {
     "name": "stdout",
     "output_type": "stream",
     "text": [
      "<class 'pandas.core.frame.DataFrame'>\n",
      "RangeIndex: 107689 entries, 0 to 107688\n",
      "Data columns (total 2 columns):\n",
      " #   Column  Non-Null Count   Dtype \n",
      "---  ------  --------------   ----- \n",
      " 0   text    107689 non-null  object\n",
      " 1   label   107689 non-null  object\n",
      "dtypes: object(2)\n",
      "memory usage: 1.6+ MB\n"
     ]
    },
    {
     "data": {
      "text/plain": [
       "label\n",
       "REAL    54220\n",
       "FAKE    53469\n",
       "Name: count, dtype: int64"
      ]
     },
     "execution_count": 36,
     "metadata": {},
     "output_type": "execute_result"
    }
   ],
   "source": [
    "df.info()\n",
    "df['label'].value_counts()"
   ]
  },
  {
   "cell_type": "code",
   "execution_count": 37,
   "id": "66aa00a3",
   "metadata": {},
   "outputs": [],
   "source": [
    "merged = df.sample(frac=1, random_state=42).reset_index(drop=True)"
   ]
  },
  {
   "cell_type": "code",
   "execution_count": 38,
   "id": "719afeb2",
   "metadata": {},
   "outputs": [
    {
     "name": "stdout",
     "output_type": "stream",
     "text": [
      "<class 'pandas.core.frame.DataFrame'>\n",
      "RangeIndex: 107689 entries, 0 to 107688\n",
      "Data columns (total 2 columns):\n",
      " #   Column  Non-Null Count   Dtype \n",
      "---  ------  --------------   ----- \n",
      " 0   text    107689 non-null  object\n",
      " 1   label   107689 non-null  object\n",
      "dtypes: object(2)\n",
      "memory usage: 1.6+ MB\n"
     ]
    },
    {
     "data": {
      "text/plain": [
       "label\n",
       "REAL    54220\n",
       "FAKE    53469\n",
       "Name: count, dtype: int64"
      ]
     },
     "execution_count": 38,
     "metadata": {},
     "output_type": "execute_result"
    }
   ],
   "source": [
    "merged.info()\n",
    "merged['label'].value_counts()\n",
    "# merged.dropna()\n"
   ]
  },
  {
   "cell_type": "code",
   "execution_count": 39,
   "id": "90e5cdcc",
   "metadata": {},
   "outputs": [
    {
     "name": "stderr",
     "output_type": "stream",
     "text": [
      "C:\\Users\\kknah\\AppData\\Local\\Temp\\ipykernel_38128\\3666150956.py:3: FutureWarning: A value is trying to be set on a copy of a DataFrame or Series through chained assignment using an inplace method.\n",
      "The behavior will change in pandas 3.0. This inplace method will never work because the intermediate object on which we are setting values always behaves as a copy.\n",
      "\n",
      "For example, when doing 'df[col].method(value, inplace=True)', try using 'df.method({col: value}, inplace=True)' or df[col] = df[col].method(value) instead, to perform the operation inplace on the original object.\n",
      "\n",
      "\n",
      "  merged['text'].replace(\"nan\", np.nan, inplace=True)\n"
     ]
    }
   ],
   "source": [
    "import numpy as np\n",
    "\n",
    "merged['text'].replace(\"nan\", np.nan, inplace=True)\n"
   ]
  },
  {
   "cell_type": "code",
   "execution_count": 40,
   "id": "2300c90e",
   "metadata": {},
   "outputs": [],
   "source": [
    "merged.dropna(subset=['text'],inplace=True)"
   ]
  },
  {
   "cell_type": "code",
   "execution_count": 41,
   "id": "9d321a19",
   "metadata": {},
   "outputs": [
    {
     "name": "stdout",
     "output_type": "stream",
     "text": [
      "<class 'pandas.core.frame.DataFrame'>\n",
      "Index: 44898 entries, 0 to 107688\n",
      "Data columns (total 2 columns):\n",
      " #   Column  Non-Null Count  Dtype \n",
      "---  ------  --------------  ----- \n",
      " 0   text    44898 non-null  object\n",
      " 1   label   44898 non-null  object\n",
      "dtypes: object(2)\n",
      "memory usage: 1.0+ MB\n",
      "None\n"
     ]
    }
   ],
   "source": [
    "merged.head()\n",
    "print(merged.info())\n"
   ]
  },
  {
   "cell_type": "code",
   "execution_count": 42,
   "id": "925428df",
   "metadata": {},
   "outputs": [
    {
     "data": {
      "text/plain": [
       "label\n",
       "FAKE    23481\n",
       "REAL    21417\n",
       "Name: count, dtype: int64"
      ]
     },
     "execution_count": 42,
     "metadata": {},
     "output_type": "execute_result"
    }
   ],
   "source": [
    "merged['label'].value_counts()\n"
   ]
  },
  {
   "cell_type": "code",
   "execution_count": 43,
   "id": "a76da1f5",
   "metadata": {},
   "outputs": [],
   "source": [
    "merged.to_csv(\"../data/processed/merged_clean_dataset.csv\")\n",
    "merged.to_csv(\"../data/processed/merged_clean_dataset.csv.gz\")\n"
   ]
  }
 ],
 "metadata": {
  "kernelspec": {
   "display_name": "Python 3",
   "language": "python",
   "name": "python3"
  },
  "language_info": {
   "codemirror_mode": {
    "name": "ipython",
    "version": 3
   },
   "file_extension": ".py",
   "mimetype": "text/x-python",
   "name": "python",
   "nbconvert_exporter": "python",
   "pygments_lexer": "ipython3",
   "version": "3.12.0"
  }
 },
 "nbformat": 4,
 "nbformat_minor": 5
}
