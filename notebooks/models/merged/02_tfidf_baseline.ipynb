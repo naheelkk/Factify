{
 "cells": [
  {
   "cell_type": "markdown",
   "id": "c1147883",
   "metadata": {},
   "source": [
    "LOAD DATASET"
   ]
  },
  {
   "cell_type": "code",
   "execution_count": 2,
   "id": "c6a812ff",
   "metadata": {},
   "outputs": [
    {
     "name": "stdout",
     "output_type": "stream",
     "text": [
      "(170230, 2)\n",
      "                                                text label\n",
      "0                                                NaN  FAKE\n",
      "1  us house may consider bill to fund government ...  REAL\n",
      "2                                                NaN  FAKE\n",
      "3                                                NaN  REAL\n",
      "4  trump completely screws the middle east peace ...  FAKE\n",
      "label\n",
      "FAKE    85115\n",
      "REAL    85115\n",
      "Name: count, dtype: int64\n"
     ]
    }
   ],
   "source": [
    "import pandas as pd\n",
    "\n",
    "df = pd.read_csv(\"../../data/processed/balanced_df.csv\")\n",
    "\n",
    "print(df.shape)\n",
    "print(df.head())\n",
    "print(df['label'].value_counts())"
   ]
  },
  {
   "cell_type": "code",
   "execution_count": 3,
   "id": "0fd0333f",
   "metadata": {},
   "outputs": [
    {
     "data": {
      "text/plain": [
       "text     133552\n",
       "label         0\n",
       "dtype: int64"
      ]
     },
     "execution_count": 3,
     "metadata": {},
     "output_type": "execute_result"
    }
   ],
   "source": [
    "df.isnull().sum()"
   ]
  },
  {
   "cell_type": "markdown",
   "id": "f978ec43",
   "metadata": {},
   "source": [
    "Test Train Split"
   ]
  },
  {
   "cell_type": "code",
   "execution_count": 4,
   "id": "b7db66d9",
   "metadata": {},
   "outputs": [
    {
     "name": "stdout",
     "output_type": "stream",
     "text": [
      "Training Size: 136184\n",
      "Test Size: 34046\n"
     ]
    }
   ],
   "source": [
    "from sklearn.model_selection import train_test_split\n",
    "\n",
    "X = df['text'].astype(str)\n",
    "y = df['label']\n",
    "\n",
    "X_train, X_test, y_train, y_test = train_test_split(\n",
    "    X,y,\n",
    "    test_size=0.2,\n",
    "    random_state=42,\n",
    "    stratify=y\n",
    ")\n",
    "\n",
    "print(f\"Training Size: {X_train.shape[0]}\")\n",
    "print(f\"Test Size: {X_test.shape[0]}\")"
   ]
  },
  {
   "cell_type": "markdown",
   "id": "3fe1a357",
   "metadata": {},
   "source": [
    "Vectorization"
   ]
  },
  {
   "cell_type": "code",
   "execution_count": 5,
   "id": "249a2c4d",
   "metadata": {},
   "outputs": [
    {
     "name": "stdout",
     "output_type": "stream",
     "text": [
      "TF-IDF matrix shape (train) (136184, 25000)\n",
      "TF-IDF matrix shape (test) (34046, 25000)\n"
     ]
    }
   ],
   "source": [
    "from sklearn.feature_extraction.text import TfidfVectorizer\n",
    "\n",
    "tfidf = TfidfVectorizer(\n",
    "    stop_words='english',\n",
    "    max_features=25000,\n",
    "    max_df=0.8,\n",
    "    min_df=5,\n",
    "    ngram_range=(1,2)\n",
    ")\n",
    "\n",
    "X_train_tfidf = tfidf.fit_transform(X_train)\n",
    "X_test_tfidf = tfidf.transform(X_test)\n",
    "\n",
    "print(\"TF-IDF matrix shape (train)\",X_train_tfidf.shape)\n",
    "print(\"TF-IDF matrix shape (test)\",X_test_tfidf.shape)\n"
   ]
  },
  {
   "cell_type": "markdown",
   "id": "85cb5163",
   "metadata": {},
   "source": [
    "LOGISTIC REGRESSION MODEL"
   ]
  },
  {
   "cell_type": "code",
   "execution_count": 6,
   "id": "665918e2",
   "metadata": {},
   "outputs": [],
   "source": [
    "from sklearn.linear_model import LogisticRegression\n",
    "\n",
    "clf = LogisticRegression(max_iter=1000,class_weight='balanced')\n",
    "clf.fit(X_train_tfidf,y_train)\n",
    "\n",
    "y_pred = clf.predict(X_test_tfidf)"
   ]
  },
  {
   "cell_type": "markdown",
   "id": "7346edf8",
   "metadata": {},
   "source": [
    "EVALUATE PERFOMANCE"
   ]
  },
  {
   "cell_type": "code",
   "execution_count": 7,
   "id": "bd018684",
   "metadata": {},
   "outputs": [
    {
     "name": "stdout",
     "output_type": "stream",
     "text": [
      "              precision    recall  f1-score   support\n",
      "\n",
      "        FAKE     0.9886    0.2803    0.4367     17023\n",
      "        REAL     0.5807    0.9968    0.7339     17023\n",
      "\n",
      "    accuracy                         0.6385     34046\n",
      "   macro avg     0.7847    0.6385    0.5853     34046\n",
      "weighted avg     0.7847    0.6385    0.5853     34046\n",
      "\n"
     ]
    },
    {
     "data": {
      "image/png": "[encoded data removed]",
      "text/plain": [
       "<Figure size 640x480 with 2 Axes>"
      ]
     },
     "metadata": {},
     "output_type": "display_data"
    }
   ],
   "source": [
    "from sklearn.metrics import classification_report, confusion_matrix\n",
    "import seaborn as sns\n",
    "import matplotlib.pyplot as plt\n",
    "\n",
    "\n",
    "print(classification_report(y_test,y_pred, digits=4))\n",
    "\n",
    "cm = confusion_matrix(y_test,y_pred)\n",
    "sns.heatmap(cm, annot=True, fmt='d',cmap='Blues', xticklabels=clf.classes_,yticklabels=clf.classes_)\n",
    "plt.xlabel(\"Predicted\")\n",
    "plt.ylabel(\"Actual\")\n",
    "plt.title(\"Confusion Matrix\")\n",
    "plt.show()"
   ]
  }
 ],
 "metadata": {
  "kernelspec": {
   "display_name": "Python 3",
   "language": "python",
   "name": "python3"
  },
  "language_info": {
   "codemirror_mode": {
    "name": "ipython",
    "version": 3
   },
   "file_extension": ".py",
   "mimetype": "text/x-python",
   "name": "python",
   "nbconvert_exporter": "python",
   "pygments_lexer": "ipython3",
   "version": "3.12.0"
  }
 },
 "nbformat": 4,
 "nbformat_minor": 5
}
